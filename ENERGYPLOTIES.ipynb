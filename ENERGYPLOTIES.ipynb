{
 "cells": [
  {
   "cell_type": "code",
   "execution_count": 1,
   "metadata": {},
   "outputs": [],
   "source": [
    "from dash import Dash, html, dcc\n",
    "import plotly.express as px\n",
    "import pandas as pd"
   ]
  },
  {
   "cell_type": "code",
   "execution_count": 2,
   "metadata": {},
   "outputs": [],
   "source": [
    "app = Dash()"
   ]
  },
  {
   "cell_type": "code",
   "execution_count": 3,
   "metadata": {},
   "outputs": [],
   "source": [
    "\n",
    "vdw_df = pd.read_csv(\"/home/tugba/grinn_workflow_results_new_0/energies_intEnVdW.csv\")\n",
    "electrostatic_df = pd.read_csv(\"/home/tugba/grinn_workflow_results_new_0/energies_intEnElec.csv\")\n",
    "total_df = pd.read_csv(\"/home/tugba/grinn_workflow_results_new_0/energies_intEnTotal.csv\")"
   ]
  },
  {
   "cell_type": "code",
   "execution_count": 4,
   "metadata": {},
   "outputs": [],
   "source": [
    "\n",
    "# \"Unnamed: 0\" sütununu 'Residue' olarak adlandıralım\n",
    "vdw_df = vdw_df.rename(columns={'Unnamed: 0': 'Residue'})\n",
    "electrostatic_df = electrostatic_df.rename(columns={'Unnamed: 0': 'Residue'})\n",
    "total_df = total_df.rename(columns={'Unnamed: 0': 'Residue'})"
   ]
  },
  {
   "cell_type": "code",
   "execution_count": 5,
   "metadata": {},
   "outputs": [],
   "source": [
    "# Verileri uzun formata (melt) dönüştürelim\n",
    "vdw_long = vdw_df.melt(id_vars=['Residue'], var_name='Frame', value_name='Energy')\n",
    "electrostatic_long = electrostatic_df.melt(id_vars=['Residue'], var_name='Frame', value_name='Energy')\n",
    "total_long = total_df.melt(id_vars=['Residue'], var_name='Frame', value_name='Energy')\n"
   ]
  },
  {
   "cell_type": "code",
   "execution_count": 6,
   "metadata": {},
   "outputs": [],
   "source": [
    "# Grafikler için Plotly Express ile etkileşim enerjisi zaman serisi grafiklerini oluşturalım\n",
    "fig_vdw = px.line(vdw_long, x='Frame', y='Energy', color='Residue', title=\"VDW Interaction Energy Time Series\")\n",
    "fig_elec = px.line(electrostatic_long, x='Frame', y='Energy', color='Residue', title=\"Electrostatic Interaction Energy Time Series\")\n",
    "fig_total = px.line(total_long, x='Frame', y='Energy', color='Residue', title=\"Total Interaction Energy Time Series\")\n"
   ]
  },
  {
   "cell_type": "code",
   "execution_count": 7,
   "metadata": {},
   "outputs": [],
   "source": [
    "# Dash uygulamasının layout'u\n",
    "app.layout = [\n",
    "    html.Div(children=[\n",
    "        html.H1(\"Protein Interaction Energy Visualization\", style={'textAlign': 'center'}),\n",
    "        html.Div(children=[\n",
    "            html.H3(\"VDW Interaction Energy\", style={'textAlign': 'center'}),\n",
    "            dcc.Graph(figure=fig_vdw)\n",
    "        ]),\n",
    "        html.Div(children=[\n",
    "            html.H3(\"Electrostatic Interaction Energy\", style={'textAlign': 'center'}),\n",
    "            dcc.Graph(figure=fig_elec)\n",
    "        ]),\n",
    "        html.Div(children=[\n",
    "            html.H3(\"Total Interaction Energy\", style={'textAlign': 'center'}),\n",
    "            dcc.Graph(figure=fig_total)\n",
    "        ])\n",
    "    ])\n",
    "]"
   ]
  },
  {
   "cell_type": "code",
   "execution_count": 8,
   "metadata": {},
   "outputs": [
    {
     "data": {
      "text/html": [
       "\n",
       "        <iframe\n",
       "            width=\"100%\"\n",
       "            height=\"650\"\n",
       "            src=\"http://127.0.0.1:8051/\"\n",
       "            frameborder=\"0\"\n",
       "            allowfullscreen\n",
       "            \n",
       "        ></iframe>\n",
       "        "
      ],
      "text/plain": [
       "<IPython.lib.display.IFrame at 0x7f1be9ac9a90>"
      ]
     },
     "metadata": {},
     "output_type": "display_data"
    }
   ],
   "source": [
    "# Uygulamayı çalıştırma\n",
    "if __name__ == '__main__':\n",
    "    app.run_server(debug=True, port=8051)"
   ]
  }
 ],
 "metadata": {
  "kernelspec": {
   "display_name": "base",
   "language": "python",
   "name": "python3"
  },
  "language_info": {
   "codemirror_mode": {
    "name": "ipython",
    "version": 3
   },
   "file_extension": ".py",
   "mimetype": "text/x-python",
   "name": "python",
   "nbconvert_exporter": "python",
   "pygments_lexer": "ipython3",
   "version": "3.11.7"
  }
 },
 "nbformat": 4,
 "nbformat_minor": 2
}
