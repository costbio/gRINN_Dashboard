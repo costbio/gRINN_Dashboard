{
 "cells": [
  {
   "cell_type": "code",
   "execution_count": 1,
   "metadata": {},
   "outputs": [],
   "source": [
    "\n",
    "from dash import Dash, dcc, html, Input, Output, callback\n"
   ]
  },
  {
   "cell_type": "code",
   "execution_count": 2,
   "metadata": {},
   "outputs": [],
   "source": [
    "app = Dash()"
   ]
  },
  {
   "cell_type": "code",
   "execution_count": 3,
   "metadata": {},
   "outputs": [],
   "source": [
    "# Uygulamanın layout'u (yapısı)\n",
    "app.layout = html.Div([\n",
    "\n",
    "    html.H1(\"get Residue Interaction Energies and Networks Update Program\"),\n",
    "\n",
    "    # Sayfa arası geçişler için \"Tabs\"\n",
    "    dcc.Tabs(id=\"tabs\", value='tab-1', children=[\n",
    "\n",
    "        dcc.Tab(label=\"File Upload\", value=\"tab-1\"),  # Tab 1: Dosya Yükleme\n",
    "        dcc.Tab(label=\"Pairwise Energies\", value=\"tab-2\"),\n",
    "        dcc.Tab(label=\"Interactions Energy Matrix\", value=\"tab-3\"),\n",
    "        dcc.Tab(label=\"Interaction Energy Correlations\", value=\"tab-4\"),\n",
    "        dcc.Tab(label=\"Residue Correlation Matrix\", value=\"tab-5\"),\n",
    "        dcc.Tab(label=\"Network Analysis\", value=\"tab-6\"),\n",
    "\n",
    "    ]),\n",
    "\n",
    "    # Sekme içerikleri burada görünecek\n",
    "    html.Div(id=\"tabs-content\")\n",
    "\n",
    "])"
   ]
  },
  {
   "cell_type": "code",
   "execution_count": 4,
   "metadata": {},
   "outputs": [],
   "source": [
    "# Sayfa arası geçiş için callback fonksiyonu\n",
    "@app.callback(\n",
    "    Output(\"tabs-content\", \"children\"),\n",
    "    Input(\"tabs\", \"value\")\n",
    ")\n",
    "def render_tab_content(tab):\n",
    "    if tab == \"tab-1\":\n",
    "        return html.Div([\n",
    "            html.H3(\"Upload Simulation Data\"),\n",
    "\n",
    "            dcc.Upload(\n",
    "                id='upload-data',\n",
    "                children=html.Button('Upload Simulation Data'),\n",
    "                multiple=True\n",
    "            ),\n",
    "            html.Div(id='output-data-upload')\n",
    "        ])\n",
    "    elif tab == \"tab-2\":\n",
    "        return html.Div([\n",
    "            html.H3(\"Pairwise Energies Tables\")\n",
    "        ])\n",
    "    elif tab == \"tab-3\":\n",
    "        return html.Div([\n",
    "            html.H3(\"Interactions Energy Matrix Tables\")\n",
    "        ])\n",
    "    elif tab == \"tab-4\":\n",
    "        return html.Div([\n",
    "            html.H3(\"Interaction Energy Correlations\")\n",
    "        ])\n",
    "    elif tab == \"tab-5\":\n",
    "        return html.Div([\n",
    "            html.H3(\"Residue Correlation Matrix Tables\")\n",
    "        ])\n",
    "    elif tab == \"tab-6\":\n",
    "        return html.Div([\n",
    "            html.H3(\"Network Analysis Tables\")\n",
    "        ])"
   ]
  },
  {
   "cell_type": "code",
   "execution_count": 5,
   "metadata": {},
   "outputs": [],
   "source": [
    "# Veri yükleme callback fonksiyonu\n",
    "@app.callback(\n",
    "    Output('output-data-upload', 'children'),\n",
    "    Input('upload-data', 'filename')\n",
    ")\n",
    "def update_output(uploaded_file):\n",
    "    if uploaded_file:\n",
    "        return html.Div(f'Uploaded: {uploaded_file}')\n",
    "    return 'No file uploaded yet.'"
   ]
  },
  {
   "cell_type": "code",
   "execution_count": 6,
   "metadata": {},
   "outputs": [
    {
     "data": {
      "text/html": [
       "\n",
       "        <iframe\n",
       "            width=\"100%\"\n",
       "            height=\"650\"\n",
       "            src=\"http://127.0.0.1:4050/\"\n",
       "            frameborder=\"0\"\n",
       "            allowfullscreen\n",
       "            \n",
       "        ></iframe>\n",
       "        "
      ],
      "text/plain": [
       "<IPython.lib.display.IFrame at 0x7f6ff1ff5090>"
      ]
     },
     "metadata": {},
     "output_type": "display_data"
    }
   ],
   "source": [
    "# Uygulama başlasın\n",
    "if __name__ == \"__main__\":\n",
    "    app.run_server(debug=True, port = \"4050\")"
   ]
  },
  {
   "cell_type": "code",
   "execution_count": null,
   "metadata": {},
   "outputs": [],
   "source": []
  }
 ],
 "metadata": {
  "kernelspec": {
   "display_name": "base",
   "language": "python",
   "name": "python3"
  },
  "language_info": {
   "codemirror_mode": {
    "name": "ipython",
    "version": 3
   },
   "file_extension": ".py",
   "mimetype": "text/x-python",
   "name": "python",
   "nbconvert_exporter": "python",
   "pygments_lexer": "ipython3",
   "version": "3.11.7"
  }
 },
 "nbformat": 4,
 "nbformat_minor": 2
}
